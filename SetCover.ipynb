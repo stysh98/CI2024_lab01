{
 "cells": [
  {
   "cell_type": "code",
   "execution_count": 1,
   "metadata": {},
   "outputs": [],
   "source": [
    "import numpy as np\n",
    "from random import random,seed\n",
    "from itertools import product\n",
    "from icecream import ic \n"
   ]
  },
  {
   "cell_type": "code",
   "execution_count": 2,
   "metadata": {},
   "outputs": [],
   "source": [
    "# Constants for the problem setup\n",
    "UNIVERSE_SIZE = 100000\n",
    "NUM_SETS = 10000\n",
    "DENSITY = 0.3\n",
    "\n",
    "# Seed for reproducibility\n",
    "rng = np.random.Generator(np.random.PCG64([UNIVERSE_SIZE, NUM_SETS, int(10000 * DENSITY)]))\n",
    "\n",
    "# Generate sets based on the specified density\n",
    "set_matrix = np.random.random((NUM_SETS, UNIVERSE_SIZE)) < DENSITY"
   ]
  },
  {
   "cell_type": "code",
   "execution_count": 3,
   "metadata": {},
   "outputs": [],
   "source": [
    "\n",
    "for element in range(UNIVERSE_SIZE):\n",
    "    if not np.any(set_matrix[:, element]):\n",
    "        set_matrix[np.random.randint(NUM_SETS), element] = True\n",
    "\n",
    "# Calculate the costs size\n",
    "set_costs = np.power(set_matrix.sum(axis=1), 1.1)"
   ]
  },
  {
   "attachments": {},
   "cell_type": "markdown",
   "metadata": {},
   "source": [
    "Helper functions"
   ]
  },
  {
   "cell_type": "code",
   "execution_count": 4,
   "metadata": {},
   "outputs": [
    {
     "name": "stdout",
     "output_type": "stream",
     "text": [
      "Solution valid: True, Total cost: 1773656.1091555224\n"
     ]
    }
   ],
   "source": [
    "def is_valid(solution):\n",
    "    \"\"\"Checks if the proposed solution covers the entire universe.\"\"\"\n",
    "    return np.all(np.logical_or.reduce(set_matrix[solution]))\n",
    "\n",
    "def total_cost(solution):\n",
    "    \"\"\"Calculates the total cost of the selected sets.\"\"\"\n",
    "    return set_costs[solution].sum()\n",
    "\n",
    "# Greedy algorithm implementation for solving the Set Cover problem\n",
    "def greedy_cover_algorithm():\n",
    "    selected_sets = []\n",
    "    covered_elements = np.zeros(UNIVERSE_SIZE, dtype=bool)\n",
    "\n",
    "    \n",
    "    while not np.all(covered_elements):\n",
    "        best_set_index = -1\n",
    "        max_coverage = 0\n",
    "\n",
    "        for index in range(NUM_SETS):\n",
    "            \n",
    "            if index in selected_sets:\n",
    "                continue\n",
    "\n",
    "            \n",
    "            new_coverage_count = np.sum(set_matrix[index] & ~covered_elements)\n",
    "\n",
    "            if new_coverage_count > max_coverage:\n",
    "                max_coverage = new_coverage_count\n",
    "                best_set_index = index\n",
    "\n",
    "    \n",
    "        selected_sets.append(best_set_index)\n",
    "        covered_elements |= set_matrix[best_set_index]\n",
    "\n",
    "    return np.array(selected_sets)\n",
    "\n",
    "# Execute the greedy algorithm\n",
    "final_solution = greedy_cover_algorithm()\n",
    "print(f\"Solution valid: {is_valid(final_solution)}, Total cost: {total_cost(final_solution)}\")"
   ]
  }
 ],
 "metadata": {
  "kernelspec": {
   "display_name": "Python 3",
   "language": "python",
   "name": "python3"
  },
  "language_info": {
   "codemirror_mode": {
    "name": "ipython",
    "version": 3
   },
   "file_extension": ".py",
   "mimetype": "text/x-python",
   "name": "python",
   "nbconvert_exporter": "python",
   "pygments_lexer": "ipython3",
   "version": "3.12.3"
  },
  "vscode": {
   "interpreter": {
    "hash": "dfa3d4a9f9e3afcf9ea6d88f0bac15abcecfee74f3a3581ec37c3715135b56c4"
   }
  }
 },
 "nbformat": 4,
 "nbformat_minor": 2
}
